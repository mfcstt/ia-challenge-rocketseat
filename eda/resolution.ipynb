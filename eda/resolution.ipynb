{
 "cells": [
  {
   "cell_type": "markdown",
   "metadata": {},
   "source": [
    "## Exercício do Módulo\n",
    "Com base no módulo de Análise Exploratória dos Dados, analise e extraia da base disponível:\n",
    "- Tipos de dados disponíveis\n",
    "- Período da análise feita\n",
    "- Tamanho da base de dados\n",
    "- Verificar dados nulos\n",
    "- Outliers"
   ]
  },
  {
   "cell_type": "code",
   "execution_count": 55,
   "metadata": {},
   "outputs": [],
   "source": [
    "import pandas as pd\n",
    "import matplotlib.pyplot as plt"
   ]
  },
  {
   "cell_type": "code",
   "execution_count": 56,
   "metadata": {},
   "outputs": [],
   "source": [
    "df_netflix = pd.read_csv('dataset/netflix daily top 10.csv')"
   ]
  },
  {
   "cell_type": "markdown",
   "metadata": {},
   "source": [
    "### Visualização do Dataframe"
   ]
  },
  {
   "cell_type": "code",
   "execution_count": 57,
   "metadata": {},
   "outputs": [
    {
     "data": {
      "text/html": [
       "<div>\n",
       "<style scoped>\n",
       "    .dataframe tbody tr th:only-of-type {\n",
       "        vertical-align: middle;\n",
       "    }\n",
       "\n",
       "    .dataframe tbody tr th {\n",
       "        vertical-align: top;\n",
       "    }\n",
       "\n",
       "    .dataframe thead th {\n",
       "        text-align: right;\n",
       "    }\n",
       "</style>\n",
       "<table border=\"1\" class=\"dataframe\">\n",
       "  <thead>\n",
       "    <tr style=\"text-align: right;\">\n",
       "      <th></th>\n",
       "      <th>As of</th>\n",
       "      <th>Rank</th>\n",
       "      <th>Year to Date Rank</th>\n",
       "      <th>Last Week Rank</th>\n",
       "      <th>Title</th>\n",
       "      <th>Type</th>\n",
       "      <th>Netflix Exclusive</th>\n",
       "      <th>Netflix Release Date</th>\n",
       "      <th>Days In Top 10</th>\n",
       "      <th>Viewership Score</th>\n",
       "    </tr>\n",
       "  </thead>\n",
       "  <tbody>\n",
       "    <tr>\n",
       "      <th>0</th>\n",
       "      <td>2020-04-01</td>\n",
       "      <td>1</td>\n",
       "      <td>1</td>\n",
       "      <td>1</td>\n",
       "      <td>Tiger King: Murder, Mayhem …</td>\n",
       "      <td>TV Show</td>\n",
       "      <td>Yes</td>\n",
       "      <td>Mar 20, 2020</td>\n",
       "      <td>9</td>\n",
       "      <td>90</td>\n",
       "    </tr>\n",
       "    <tr>\n",
       "      <th>1</th>\n",
       "      <td>2020-04-01</td>\n",
       "      <td>2</td>\n",
       "      <td>2</td>\n",
       "      <td>-</td>\n",
       "      <td>Ozark</td>\n",
       "      <td>TV Show</td>\n",
       "      <td>Yes</td>\n",
       "      <td>Jul 21, 2017</td>\n",
       "      <td>5</td>\n",
       "      <td>45</td>\n",
       "    </tr>\n",
       "    <tr>\n",
       "      <th>2</th>\n",
       "      <td>2020-04-01</td>\n",
       "      <td>3</td>\n",
       "      <td>3</td>\n",
       "      <td>2</td>\n",
       "      <td>All American</td>\n",
       "      <td>TV Show</td>\n",
       "      <td>NaN</td>\n",
       "      <td>Mar 28, 2019</td>\n",
       "      <td>9</td>\n",
       "      <td>76</td>\n",
       "    </tr>\n",
       "    <tr>\n",
       "      <th>3</th>\n",
       "      <td>2020-04-01</td>\n",
       "      <td>4</td>\n",
       "      <td>4</td>\n",
       "      <td>-</td>\n",
       "      <td>Blood Father</td>\n",
       "      <td>Movie</td>\n",
       "      <td>NaN</td>\n",
       "      <td>Mar 26, 2020</td>\n",
       "      <td>5</td>\n",
       "      <td>30</td>\n",
       "    </tr>\n",
       "    <tr>\n",
       "      <th>4</th>\n",
       "      <td>2020-04-01</td>\n",
       "      <td>5</td>\n",
       "      <td>5</td>\n",
       "      <td>4</td>\n",
       "      <td>The Platform</td>\n",
       "      <td>Movie</td>\n",
       "      <td>Yes</td>\n",
       "      <td>Mar 20, 2020</td>\n",
       "      <td>9</td>\n",
       "      <td>55</td>\n",
       "    </tr>\n",
       "    <tr>\n",
       "      <th>...</th>\n",
       "      <td>...</td>\n",
       "      <td>...</td>\n",
       "      <td>...</td>\n",
       "      <td>...</td>\n",
       "      <td>...</td>\n",
       "      <td>...</td>\n",
       "      <td>...</td>\n",
       "      <td>...</td>\n",
       "      <td>...</td>\n",
       "      <td>...</td>\n",
       "    </tr>\n",
       "    <tr>\n",
       "      <th>7095</th>\n",
       "      <td>2022-03-11</td>\n",
       "      <td>6</td>\n",
       "      <td>5</td>\n",
       "      <td>1</td>\n",
       "      <td>Worst Roommate Ever</td>\n",
       "      <td>TV Show</td>\n",
       "      <td>Yes</td>\n",
       "      <td>Mar 1, 2022</td>\n",
       "      <td>10</td>\n",
       "      <td>81</td>\n",
       "    </tr>\n",
       "    <tr>\n",
       "      <th>7096</th>\n",
       "      <td>2022-03-11</td>\n",
       "      <td>7</td>\n",
       "      <td>7</td>\n",
       "      <td>2</td>\n",
       "      <td>Vikings: Valhalla</td>\n",
       "      <td>TV Show</td>\n",
       "      <td>Yes</td>\n",
       "      <td>Feb 25, 2022</td>\n",
       "      <td>14</td>\n",
       "      <td>100</td>\n",
       "    </tr>\n",
       "    <tr>\n",
       "      <th>7097</th>\n",
       "      <td>2022-03-11</td>\n",
       "      <td>8</td>\n",
       "      <td>8</td>\n",
       "      <td>-</td>\n",
       "      <td>Shooter</td>\n",
       "      <td>Movie</td>\n",
       "      <td>NaN</td>\n",
       "      <td>Aug 1, 2014</td>\n",
       "      <td>3</td>\n",
       "      <td>7</td>\n",
       "    </tr>\n",
       "    <tr>\n",
       "      <th>7098</th>\n",
       "      <td>2022-03-11</td>\n",
       "      <td>9</td>\n",
       "      <td>9</td>\n",
       "      <td>7</td>\n",
       "      <td>Shrek 2</td>\n",
       "      <td>Movie</td>\n",
       "      <td>NaN</td>\n",
       "      <td>Mar 1, 2022</td>\n",
       "      <td>10</td>\n",
       "      <td>33</td>\n",
       "    </tr>\n",
       "    <tr>\n",
       "      <th>7099</th>\n",
       "      <td>2022-03-11</td>\n",
       "      <td>10</td>\n",
       "      <td>10</td>\n",
       "      <td>-</td>\n",
       "      <td>Shrek</td>\n",
       "      <td>Movie</td>\n",
       "      <td>NaN</td>\n",
       "      <td>May 1, 2018</td>\n",
       "      <td>7</td>\n",
       "      <td>12</td>\n",
       "    </tr>\n",
       "  </tbody>\n",
       "</table>\n",
       "<p>7100 rows × 10 columns</p>\n",
       "</div>"
      ],
      "text/plain": [
       "           As of  Rank Year to Date Rank Last Week Rank  \\\n",
       "0     2020-04-01     1                 1              1   \n",
       "1     2020-04-01     2                 2              -   \n",
       "2     2020-04-01     3                 3              2   \n",
       "3     2020-04-01     4                 4              -   \n",
       "4     2020-04-01     5                 5              4   \n",
       "...          ...   ...               ...            ...   \n",
       "7095  2022-03-11     6                 5              1   \n",
       "7096  2022-03-11     7                 7              2   \n",
       "7097  2022-03-11     8                 8              -   \n",
       "7098  2022-03-11     9                 9              7   \n",
       "7099  2022-03-11    10                10              -   \n",
       "\n",
       "                             Title     Type Netflix Exclusive  \\\n",
       "0     Tiger King: Murder, Mayhem …  TV Show               Yes   \n",
       "1                            Ozark  TV Show               Yes   \n",
       "2                     All American  TV Show               NaN   \n",
       "3                     Blood Father    Movie               NaN   \n",
       "4                     The Platform    Movie               Yes   \n",
       "...                            ...      ...               ...   \n",
       "7095           Worst Roommate Ever  TV Show               Yes   \n",
       "7096             Vikings: Valhalla  TV Show               Yes   \n",
       "7097                       Shooter    Movie               NaN   \n",
       "7098                       Shrek 2    Movie               NaN   \n",
       "7099                         Shrek    Movie               NaN   \n",
       "\n",
       "     Netflix Release Date  Days In Top 10  Viewership Score  \n",
       "0            Mar 20, 2020               9                90  \n",
       "1            Jul 21, 2017               5                45  \n",
       "2            Mar 28, 2019               9                76  \n",
       "3            Mar 26, 2020               5                30  \n",
       "4            Mar 20, 2020               9                55  \n",
       "...                   ...             ...               ...  \n",
       "7095          Mar 1, 2022              10                81  \n",
       "7096         Feb 25, 2022              14               100  \n",
       "7097          Aug 1, 2014               3                 7  \n",
       "7098          Mar 1, 2022              10                33  \n",
       "7099          May 1, 2018               7                12  \n",
       "\n",
       "[7100 rows x 10 columns]"
      ]
     },
     "metadata": {},
     "output_type": "display_data"
    }
   ],
   "source": [
    "display(df_netflix)"
   ]
  },
  {
   "cell_type": "markdown",
   "metadata": {},
   "source": [
    "### Tipos de Dados Disponíveis"
   ]
  },
  {
   "cell_type": "code",
   "execution_count": 58,
   "metadata": {},
   "outputs": [
    {
     "name": "stdout",
     "output_type": "stream",
     "text": [
      "<class 'pandas.core.frame.DataFrame'>\n",
      "RangeIndex: 7100 entries, 0 to 7099\n",
      "Data columns (total 10 columns):\n",
      " #   Column                Non-Null Count  Dtype \n",
      "---  ------                --------------  ----- \n",
      " 0   As of                 7100 non-null   object\n",
      " 1   Rank                  7100 non-null   int64 \n",
      " 2   Year to Date Rank     7100 non-null   object\n",
      " 3   Last Week Rank        7100 non-null   object\n",
      " 4   Title                 7100 non-null   object\n",
      " 5   Type                  7100 non-null   object\n",
      " 6   Netflix Exclusive     4599 non-null   object\n",
      " 7   Netflix Release Date  7100 non-null   object\n",
      " 8   Days In Top 10        7100 non-null   int64 \n",
      " 9   Viewership Score      7100 non-null   int64 \n",
      "dtypes: int64(3), object(7)\n",
      "memory usage: 554.8+ KB\n"
     ]
    }
   ],
   "source": [
    "df_netflix.info()"
   ]
  },
  {
   "cell_type": "code",
   "execution_count": 59,
   "metadata": {},
   "outputs": [
    {
     "data": {
      "text/plain": [
       "As of                   object\n",
       "Rank                     int64\n",
       "Year to Date Rank       object\n",
       "Last Week Rank          object\n",
       "Title                   object\n",
       "Type                    object\n",
       "Netflix Exclusive       object\n",
       "Netflix Release Date    object\n",
       "Days In Top 10           int64\n",
       "Viewership Score         int64\n",
       "dtype: object"
      ]
     },
     "execution_count": 59,
     "metadata": {},
     "output_type": "execute_result"
    }
   ],
   "source": [
    "df_netflix.dtypes"
   ]
  },
  {
   "cell_type": "markdown",
   "metadata": {},
   "source": [
    "### Período da Análise Feita"
   ]
  },
  {
   "cell_type": "code",
   "execution_count": 60,
   "metadata": {},
   "outputs": [
    {
     "data": {
      "text/plain": [
       "('2020-04-01', '2022-03-11')"
      ]
     },
     "execution_count": 60,
     "metadata": {},
     "output_type": "execute_result"
    }
   ],
   "source": [
    "## Periodo da analise da base de dados\n",
    "df_netflix['As of'].min(), df_netflix['As of'].max()"
   ]
  },
  {
   "cell_type": "markdown",
   "metadata": {},
   "source": [
    "### Verificar dados nulos"
   ]
  },
  {
   "cell_type": "code",
   "execution_count": 61,
   "metadata": {},
   "outputs": [
    {
     "data": {
      "text/plain": [
       "As of                      0\n",
       "Rank                       0\n",
       "Year to Date Rank          0\n",
       "Last Week Rank             0\n",
       "Title                      0\n",
       "Type                       0\n",
       "Netflix Exclusive       2501\n",
       "Netflix Release Date       0\n",
       "Days In Top 10             0\n",
       "Viewership Score           0\n",
       "dtype: int64"
      ]
     },
     "execution_count": 61,
     "metadata": {},
     "output_type": "execute_result"
    }
   ],
   "source": [
    "df_netflix.isna().sum()"
   ]
  },
  {
   "cell_type": "code",
   "execution_count": 62,
   "metadata": {},
   "outputs": [
    {
     "data": {
      "text/plain": [
       "Netflix Exclusive\n",
       "Yes    4599\n",
       "Name: count, dtype: int64"
      ]
     },
     "execution_count": 62,
     "metadata": {},
     "output_type": "execute_result"
    }
   ],
   "source": [
    "df_netflix['Netflix Exclusive'].value_counts()"
   ]
  },
  {
   "cell_type": "code",
   "execution_count": 63,
   "metadata": {},
   "outputs": [],
   "source": [
    "df_netflix.fillna({'Netflix Exclusive': 'No'}, inplace=True)"
   ]
  },
  {
   "cell_type": "code",
   "execution_count": 64,
   "metadata": {},
   "outputs": [
    {
     "data": {
      "text/plain": [
       "Netflix Exclusive\n",
       "Yes    4599\n",
       "No     2501\n",
       "Name: count, dtype: int64"
      ]
     },
     "execution_count": 64,
     "metadata": {},
     "output_type": "execute_result"
    }
   ],
   "source": [
    "df_netflix['Netflix Exclusive'].value_counts()"
   ]
  },
  {
   "cell_type": "markdown",
   "metadata": {},
   "source": [
    "### Análise Univariada\n",
    "\n",
    "#### Hipóteses\n",
    "- Conteúdos exclusivos da Netflix tendem a permanecer mais dias no Top 10 e ter um Viewership Score mais alto do que conteúdos não exclusivos.\n",
    "- Conteúdos lançados recentemente tendem a ter um Viewership Score mais alto e permanecer mais dias no Top 10 em comparação com títulos mais antigos.\n"
   ]
  },
  {
   "cell_type": "code",
   "execution_count": 65,
   "metadata": {},
   "outputs": [
    {
     "data": {
      "text/plain": [
       "Netflix Exclusive\n",
       "Yes    4599\n",
       "No     2501\n",
       "Name: count, dtype: int64"
      ]
     },
     "execution_count": 65,
     "metadata": {},
     "output_type": "execute_result"
    }
   ],
   "source": [
    "df_netflix['Netflix Exclusive'].value_counts()"
   ]
  },
  {
   "cell_type": "code",
   "execution_count": 66,
   "metadata": {},
   "outputs": [
    {
     "data": {
      "text/plain": [
       "Netflix Exclusive\n",
       "Yes   0.647746478873239\n",
       "No    0.352253521126761\n",
       "Name: proportion, dtype: float64"
      ]
     },
     "execution_count": 66,
     "metadata": {},
     "output_type": "execute_result"
    }
   ],
   "source": [
    "df_netflix['Netflix Exclusive'].value_counts(normalize=True)"
   ]
  },
  {
   "cell_type": "code",
   "execution_count": 67,
   "metadata": {},
   "outputs": [
    {
     "data": {
      "text/plain": [
       "[Text(0, 0, '0.647746'), Text(0, 0, '0.352254')]"
      ]
     },
     "execution_count": 67,
     "metadata": {},
     "output_type": "execute_result"
    },
    {
     "data": {
      "image/png": "[encoded data removed]",
      "text/plain": [
       "<Figure size 640x480 with 1 Axes>"
      ]
     },
     "metadata": {},
     "output_type": "display_data"
    }
   ],
   "source": [
    "# Plot de distribuição Churn (Percentual)\n",
    "ax = df_netflix['Netflix Exclusive'].value_counts(normalize=True).plot.bar(color=[ '#996dff'])\n",
    "ax.bar_label(ax.containers[0])"
   ]
  },
  {
   "cell_type": "code",
   "execution_count": 68,
   "metadata": {},
   "outputs": [],
   "source": [
    "df_netflix_exclusive = df_netflix[df_netflix['Netflix Exclusive'] == 'Yes']\n",
    "df_netflix_non_exclusive = df_netflix[df_netflix['Netflix Exclusive'] == 'No']"
   ]
  },
  {
   "cell_type": "code",
   "execution_count": 69,
   "metadata": {},
   "outputs": [
    {
     "data": {
      "text/html": [
       "<div>\n",
       "<style scoped>\n",
       "    .dataframe tbody tr th:only-of-type {\n",
       "        vertical-align: middle;\n",
       "    }\n",
       "\n",
       "    .dataframe tbody tr th {\n",
       "        vertical-align: top;\n",
       "    }\n",
       "\n",
       "    .dataframe thead th {\n",
       "        text-align: right;\n",
       "    }\n",
       "</style>\n",
       "<table border=\"1\" class=\"dataframe\">\n",
       "  <thead>\n",
       "    <tr style=\"text-align: right;\">\n",
       "      <th></th>\n",
       "      <th>Rank</th>\n",
       "      <th>Days In Top 10</th>\n",
       "      <th>Viewership Score</th>\n",
       "    </tr>\n",
       "  </thead>\n",
       "  <tbody>\n",
       "    <tr>\n",
       "      <th>count</th>\n",
       "      <td>4599.000000000000000</td>\n",
       "      <td>4599.000000000000000</td>\n",
       "      <td>4599.000000000000000</td>\n",
       "    </tr>\n",
       "    <tr>\n",
       "      <th>mean</th>\n",
       "      <td>5.016960208741031</td>\n",
       "      <td>12.086105675146770</td>\n",
       "      <td>88.664492280930631</td>\n",
       "    </tr>\n",
       "    <tr>\n",
       "      <th>std</th>\n",
       "      <td>2.874369537836620</td>\n",
       "      <td>13.122104495563359</td>\n",
       "      <td>97.720286065589491</td>\n",
       "    </tr>\n",
       "    <tr>\n",
       "      <th>min</th>\n",
       "      <td>1.000000000000000</td>\n",
       "      <td>1.000000000000000</td>\n",
       "      <td>1.000000000000000</td>\n",
       "    </tr>\n",
       "    <tr>\n",
       "      <th>25%</th>\n",
       "      <td>2.000000000000000</td>\n",
       "      <td>4.000000000000000</td>\n",
       "      <td>21.000000000000000</td>\n",
       "    </tr>\n",
       "    <tr>\n",
       "      <th>50%</th>\n",
       "      <td>5.000000000000000</td>\n",
       "      <td>7.000000000000000</td>\n",
       "      <td>53.000000000000000</td>\n",
       "    </tr>\n",
       "    <tr>\n",
       "      <th>75%</th>\n",
       "      <td>7.000000000000000</td>\n",
       "      <td>16.000000000000000</td>\n",
       "      <td>120.000000000000000</td>\n",
       "    </tr>\n",
       "    <tr>\n",
       "      <th>max</th>\n",
       "      <td>10.000000000000000</td>\n",
       "      <td>89.000000000000000</td>\n",
       "      <td>536.000000000000000</td>\n",
       "    </tr>\n",
       "  </tbody>\n",
       "</table>\n",
       "</div>"
      ],
      "text/plain": [
       "                      Rank       Days In Top 10     Viewership Score\n",
       "count 4599.000000000000000 4599.000000000000000 4599.000000000000000\n",
       "mean     5.016960208741031   12.086105675146770   88.664492280930631\n",
       "std      2.874369537836620   13.122104495563359   97.720286065589491\n",
       "min      1.000000000000000    1.000000000000000    1.000000000000000\n",
       "25%      2.000000000000000    4.000000000000000   21.000000000000000\n",
       "50%      5.000000000000000    7.000000000000000   53.000000000000000\n",
       "75%      7.000000000000000   16.000000000000000  120.000000000000000\n",
       "max     10.000000000000000   89.000000000000000  536.000000000000000"
      ]
     },
     "execution_count": 69,
     "metadata": {},
     "output_type": "execute_result"
    }
   ],
   "source": [
    "df_netflix_exclusive.describe()"
   ]
  },
  {
   "cell_type": "code",
   "execution_count": 70,
   "metadata": {},
   "outputs": [
    {
     "data": {
      "text/html": [
       "<div>\n",
       "<style scoped>\n",
       "    .dataframe tbody tr th:only-of-type {\n",
       "        vertical-align: middle;\n",
       "    }\n",
       "\n",
       "    .dataframe tbody tr th {\n",
       "        vertical-align: top;\n",
       "    }\n",
       "\n",
       "    .dataframe thead th {\n",
       "        text-align: right;\n",
       "    }\n",
       "</style>\n",
       "<table border=\"1\" class=\"dataframe\">\n",
       "  <thead>\n",
       "    <tr style=\"text-align: right;\">\n",
       "      <th></th>\n",
       "      <th>Rank</th>\n",
       "      <th>Days In Top 10</th>\n",
       "      <th>Viewership Score</th>\n",
       "    </tr>\n",
       "  </thead>\n",
       "  <tbody>\n",
       "    <tr>\n",
       "      <th>count</th>\n",
       "      <td>2501.000000000000000</td>\n",
       "      <td>2501.000000000000000</td>\n",
       "      <td>2501.000000000000000</td>\n",
       "    </tr>\n",
       "    <tr>\n",
       "      <th>mean</th>\n",
       "      <td>6.388244702119152</td>\n",
       "      <td>46.259096361455420</td>\n",
       "      <td>185.542582966813285</td>\n",
       "    </tr>\n",
       "    <tr>\n",
       "      <th>std</th>\n",
       "      <td>2.648774387843729</td>\n",
       "      <td>92.928398470129210</td>\n",
       "      <td>325.928620845064188</td>\n",
       "    </tr>\n",
       "    <tr>\n",
       "      <th>min</th>\n",
       "      <td>1.000000000000000</td>\n",
       "      <td>1.000000000000000</td>\n",
       "      <td>1.000000000000000</td>\n",
       "    </tr>\n",
       "    <tr>\n",
       "      <th>25%</th>\n",
       "      <td>4.000000000000000</td>\n",
       "      <td>3.000000000000000</td>\n",
       "      <td>15.000000000000000</td>\n",
       "    </tr>\n",
       "    <tr>\n",
       "      <th>50%</th>\n",
       "      <td>7.000000000000000</td>\n",
       "      <td>8.000000000000000</td>\n",
       "      <td>44.000000000000000</td>\n",
       "    </tr>\n",
       "    <tr>\n",
       "      <th>75%</th>\n",
       "      <td>9.000000000000000</td>\n",
       "      <td>28.000000000000000</td>\n",
       "      <td>167.000000000000000</td>\n",
       "    </tr>\n",
       "    <tr>\n",
       "      <th>max</th>\n",
       "      <td>10.000000000000000</td>\n",
       "      <td>428.000000000000000</td>\n",
       "      <td>1474.000000000000000</td>\n",
       "    </tr>\n",
       "  </tbody>\n",
       "</table>\n",
       "</div>"
      ],
      "text/plain": [
       "                      Rank       Days In Top 10     Viewership Score\n",
       "count 2501.000000000000000 2501.000000000000000 2501.000000000000000\n",
       "mean     6.388244702119152   46.259096361455420  185.542582966813285\n",
       "std      2.648774387843729   92.928398470129210  325.928620845064188\n",
       "min      1.000000000000000    1.000000000000000    1.000000000000000\n",
       "25%      4.000000000000000    3.000000000000000   15.000000000000000\n",
       "50%      7.000000000000000    8.000000000000000   44.000000000000000\n",
       "75%      9.000000000000000   28.000000000000000  167.000000000000000\n",
       "max     10.000000000000000  428.000000000000000 1474.000000000000000"
      ]
     },
     "execution_count": 70,
     "metadata": {},
     "output_type": "execute_result"
    }
   ],
   "source": [
    "df_netflix_non_exclusive.describe()"
   ]
  },
  {
   "cell_type": "markdown",
   "metadata": {},
   "source": [
    "A média de Rank é menor para conteúdos exclusivos (5.02) em comparação com os não exclusivos (6.39), sugerindo que conteúdos exclusivos tendem a ter melhores posições no ranking.\n",
    "\n",
    "A média de dias no Top 10 é significativamente maior para conteúdos não exclusivos (46.26) em comparação com exclusivos (12.09). Isso indica que os conteúdos não exclusivos têm maior permanência no Top 10, possivelmente por causa de séries e filmes populares de outras plataformas que atraem o público para a Netflix.\n",
    "\n",
    "A média do Viewership Score é mais alta para os não exclusivos (185.54) comparada com os exclusivos (88.66), indicando que conteúdos não exclusivos tendem a atrair mais visualizações."
   ]
  },
  {
   "cell_type": "code",
   "execution_count": 71,
   "metadata": {},
   "outputs": [
    {
     "data": {
      "text/plain": [
       "<Axes: >"
      ]
     },
     "execution_count": 71,
     "metadata": {},
     "output_type": "execute_result"
    },
    {
     "data": {
      "image/png": "[encoded data removed]",
      "text/plain": [
       "<Figure size 640x480 with 1 Axes>"
      ]
     },
     "metadata": {},
     "output_type": "display_data"
    }
   ],
   "source": [
    "# Histograma de lançamento de conteúdos \n",
    "df_netflix['Netflix Release Date'].hist(bins=30, color='#996dff')"
   ]
  },
  {
   "cell_type": "code",
   "execution_count": 72,
   "metadata": {},
   "outputs": [],
   "source": [
    "# Converte a coluna para formato de data\n",
    "df_netflix['Netflix Release Date'] = pd.to_datetime(df_netflix['Netflix Release Date'], errors='coerce')\n",
    "# Cria uma nova coluna com apenas o ano de lançamento\n",
    "df_netflix['Release Year'] = df_netflix['Netflix Release Date'].dt.year"
   ]
  },
  {
   "cell_type": "code",
   "execution_count": 73,
   "metadata": {},
   "outputs": [],
   "source": [
    "# Agrupa os dados por ano de lançamento e calcula a média de Days In Top 10\n",
    "avg_days_by_year = df_netflix.groupby('Release Year')['Days In Top 10'].mean()"
   ]
  },
  {
   "cell_type": "code",
   "execution_count": 74,
   "metadata": {},
   "outputs": [
    {
     "data": {
      "image/png": "[encoded data removed]",
      "text/plain": [
       "<Figure size 1000x600 with 1 Axes>"
      ]
     },
     "metadata": {},
     "output_type": "display_data"
    }
   ],
   "source": [
    "# Plota a média de dias no Top 10 por ano de lançamento\n",
    "plt.figure(figsize=(10, 6))\n",
    "avg_days_by_year.plot(kind='line', marker='o', color='#996dff')\n",
    "plt.title('Média de Dias no Top 10 por Ano de Lançamento')\n",
    "plt.xlabel('Ano de Lançamento')\n",
    "plt.ylabel('Média de Dias no Top 10')\n",
    "plt.grid(True)\n",
    "plt.show()"
   ]
  },
  {
   "cell_type": "markdown",
   "metadata": {},
   "source": [
    "O gráfico demonstra um aumento acentuado na média de dias no Top 10 para lançamentos da Netflix ao longo dos anos, com um pico significativo em 2020. Esse comportamento provavelmente não é coincidência e pode estar diretamente relacionado ao contexto histórico da pandemia de COVID-19.\n",
    "\n",
    "Em 2020, com a implementação de medidas de isolamento social em diversos países, o consumo de conteúdo digital cresceu substancialmente, uma vez que as pessoas buscaram alternativas de entretenimento dentro de casa. Plataformas de streaming, como a Netflix, se beneficiaram desse cenário, com mais pessoas dedicando tempo a assistir a séries, filmes e documentários. Esse aumento na demanda por conteúdo também pode ter contribuído para que lançamentos de 2020 permanecessem mais tempo no Top 10, devido ao maior volume de visualizações e engajamento da audiência."
   ]
  },
  {
   "cell_type": "markdown",
   "metadata": {},
   "source": [
    "## Análise Bivariada"
   ]
  },
  {
   "cell_type": "code",
   "execution_count": 75,
   "metadata": {},
   "outputs": [
    {
     "data": {
      "text/html": [
       "<div>\n",
       "<style scoped>\n",
       "    .dataframe tbody tr th:only-of-type {\n",
       "        vertical-align: middle;\n",
       "    }\n",
       "\n",
       "    .dataframe tbody tr th {\n",
       "        vertical-align: top;\n",
       "    }\n",
       "\n",
       "    .dataframe thead th {\n",
       "        text-align: right;\n",
       "    }\n",
       "</style>\n",
       "<table border=\"1\" class=\"dataframe\">\n",
       "  <thead>\n",
       "    <tr style=\"text-align: right;\">\n",
       "      <th>Days In Top 10</th>\n",
       "      <th>1</th>\n",
       "      <th>2</th>\n",
       "      <th>3</th>\n",
       "      <th>4</th>\n",
       "      <th>5</th>\n",
       "      <th>6</th>\n",
       "      <th>7</th>\n",
       "      <th>8</th>\n",
       "      <th>9</th>\n",
       "      <th>10</th>\n",
       "      <th>...</th>\n",
       "      <th>419</th>\n",
       "      <th>420</th>\n",
       "      <th>421</th>\n",
       "      <th>422</th>\n",
       "      <th>423</th>\n",
       "      <th>424</th>\n",
       "      <th>425</th>\n",
       "      <th>426</th>\n",
       "      <th>427</th>\n",
       "      <th>428</th>\n",
       "    </tr>\n",
       "    <tr>\n",
       "      <th>Netflix Exclusive</th>\n",
       "      <th></th>\n",
       "      <th></th>\n",
       "      <th></th>\n",
       "      <th></th>\n",
       "      <th></th>\n",
       "      <th></th>\n",
       "      <th></th>\n",
       "      <th></th>\n",
       "      <th></th>\n",
       "      <th></th>\n",
       "      <th></th>\n",
       "      <th></th>\n",
       "      <th></th>\n",
       "      <th></th>\n",
       "      <th></th>\n",
       "      <th></th>\n",
       "      <th></th>\n",
       "      <th></th>\n",
       "      <th></th>\n",
       "      <th></th>\n",
       "      <th></th>\n",
       "    </tr>\n",
       "  </thead>\n",
       "  <tbody>\n",
       "    <tr>\n",
       "      <th>No</th>\n",
       "      <td>234</td>\n",
       "      <td>217</td>\n",
       "      <td>195</td>\n",
       "      <td>180</td>\n",
       "      <td>154</td>\n",
       "      <td>133</td>\n",
       "      <td>111</td>\n",
       "      <td>90</td>\n",
       "      <td>76</td>\n",
       "      <td>60</td>\n",
       "      <td>...</td>\n",
       "      <td>1</td>\n",
       "      <td>1</td>\n",
       "      <td>1</td>\n",
       "      <td>1</td>\n",
       "      <td>1</td>\n",
       "      <td>1</td>\n",
       "      <td>1</td>\n",
       "      <td>1</td>\n",
       "      <td>1</td>\n",
       "      <td>1</td>\n",
       "    </tr>\n",
       "    <tr>\n",
       "      <th>Yes</th>\n",
       "      <td>396</td>\n",
       "      <td>389</td>\n",
       "      <td>364</td>\n",
       "      <td>347</td>\n",
       "      <td>314</td>\n",
       "      <td>285</td>\n",
       "      <td>239</td>\n",
       "      <td>205</td>\n",
       "      <td>177</td>\n",
       "      <td>153</td>\n",
       "      <td>...</td>\n",
       "      <td>0</td>\n",
       "      <td>0</td>\n",
       "      <td>0</td>\n",
       "      <td>0</td>\n",
       "      <td>0</td>\n",
       "      <td>0</td>\n",
       "      <td>0</td>\n",
       "      <td>0</td>\n",
       "      <td>0</td>\n",
       "      <td>0</td>\n",
       "    </tr>\n",
       "  </tbody>\n",
       "</table>\n",
       "<p>2 rows × 428 columns</p>\n",
       "</div>"
      ],
      "text/plain": [
       "Days In Top 10     1    2    3    4    5    6    7    8    9    10   ...  419  \\\n",
       "Netflix Exclusive                                                    ...        \n",
       "No                 234  217  195  180  154  133  111   90   76   60  ...    1   \n",
       "Yes                396  389  364  347  314  285  239  205  177  153  ...    0   \n",
       "\n",
       "Days In Top 10     420  421  422  423  424  425  426  427  428  \n",
       "Netflix Exclusive                                               \n",
       "No                   1    1    1    1    1    1    1    1    1  \n",
       "Yes                  0    0    0    0    0    0    0    0    0  \n",
       "\n",
       "[2 rows x 428 columns]"
      ]
     },
     "execution_count": 75,
     "metadata": {},
     "output_type": "execute_result"
    }
   ],
   "source": [
    "pd.crosstab(df_netflix['Netflix Exclusive'], df_netflix['Days In Top 10'])\n"
   ]
  },
  {
   "cell_type": "code",
   "execution_count": 76,
   "metadata": {},
   "outputs": [],
   "source": [
    "df_netflix['Netflix Exclusive'] = df_netflix['Netflix Exclusive'].map({'Yes': 1, 'No': 0})"
   ]
  },
  {
   "cell_type": "code",
   "execution_count": 77,
   "metadata": {},
   "outputs": [],
   "source": [
    "from scipy.stats import chi2_contingency"
   ]
  },
  {
   "cell_type": "code",
   "execution_count": 78,
   "metadata": {},
   "outputs": [],
   "source": [
    "df_crosstab_netflix_exclusive = pd.crosstab(df_netflix['Netflix Exclusive'], df_netflix['Days In Top 10'])"
   ]
  },
  {
   "cell_type": "code",
   "execution_count": 79,
   "metadata": {},
   "outputs": [
    {
     "data": {
      "text/plain": [
       "Chi2ContingencyResult(statistic=np.float64(759.4360562491545), pvalue=np.float64(5.494180461596469e-21), dof=427, expected_freq=array([[2.21919718e+02, 2.13465634e+02, 1.96909718e+02, 1.85637606e+02,\n",
       "        1.64854648e+02, 1.47241972e+02, 1.23288732e+02, 1.03914789e+02,\n",
       "        8.91201408e+01, 7.50300000e+01, 6.55191549e+01, 5.98830986e+01,\n",
       "        5.35425352e+01, 4.82587324e+01, 4.22704225e+01, 3.80433803e+01,\n",
       "        3.52253521e+01, 3.20550704e+01, 3.02938028e+01, 2.85325352e+01,\n",
       "        2.67712676e+01, 2.36009859e+01, 2.14874648e+01, 2.04307042e+01,\n",
       "        1.90216901e+01, 1.83171831e+01, 1.51469014e+01, 1.44423944e+01,\n",
       "        1.33856338e+01, 1.23288732e+01, 1.19766197e+01, 1.12721127e+01,\n",
       "        1.09198592e+01, 1.05676056e+01, 9.51084507e+00, 9.15859155e+00,\n",
       "        9.15859155e+00, 9.15859155e+00, 9.15859155e+00, 8.45408451e+00,\n",
       "        8.10183099e+00, 7.74957746e+00, 7.04507042e+00, 7.04507042e+00,\n",
       "        5.98830986e+00, 5.28380282e+00, 4.93154930e+00, 4.93154930e+00,\n",
       "        4.22704225e+00, 3.87478873e+00, 3.87478873e+00, 3.87478873e+00,\n",
       "        3.87478873e+00, 3.87478873e+00, 3.87478873e+00, 3.52253521e+00,\n",
       "        3.52253521e+00, 3.17028169e+00, 2.81802817e+00, 2.81802817e+00,\n",
       "        2.81802817e+00, 2.81802817e+00, 2.81802817e+00, 2.81802817e+00,\n",
       "        2.81802817e+00, 2.81802817e+00, 2.11352113e+00, 2.11352113e+00,\n",
       "        2.11352113e+00, 2.11352113e+00, 2.11352113e+00, 2.11352113e+00,\n",
       "        1.76126761e+00, 1.40901408e+00, 1.40901408e+00, 1.40901408e+00,\n",
       "        1.40901408e+00, 1.40901408e+00, 1.40901408e+00, 1.40901408e+00,\n",
       "        1.05676056e+00, 7.04507042e-01, 7.04507042e-01, 7.04507042e-01,\n",
       "        7.04507042e-01, 7.04507042e-01, 7.04507042e-01, 7.04507042e-01,\n",
       "        7.04507042e-01, 3.52253521e-01, 3.52253521e-01, 3.52253521e-01,\n",
       "        3.52253521e-01, 3.52253521e-01, 3.52253521e-01, 3.52253521e-01,\n",
       "        3.52253521e-01, 3.52253521e-01, 3.52253521e-01, 3.52253521e-01,\n",
       "        3.52253521e-01, 3.52253521e-01, 3.52253521e-01, 3.52253521e-01,\n",
       "        3.52253521e-01, 3.52253521e-01, 3.52253521e-01, 3.52253521e-01,\n",
       "        3.52253521e-01, 3.52253521e-01, 3.52253521e-01, 3.52253521e-01,\n",
       "        3.52253521e-01, 3.52253521e-01, 3.52253521e-01, 3.52253521e-01,\n",
       "        3.52253521e-01, 3.52253521e-01, 3.52253521e-01, 3.52253521e-01,\n",
       "        3.52253521e-01, 3.52253521e-01, 3.52253521e-01, 3.52253521e-01,\n",
       "        3.52253521e-01, 3.52253521e-01, 3.52253521e-01, 3.52253521e-01,\n",
       "        3.52253521e-01, 3.52253521e-01, 3.52253521e-01, 3.52253521e-01,\n",
       "        3.52253521e-01, 3.52253521e-01, 3.52253521e-01, 3.52253521e-01,\n",
       "        3.52253521e-01, 3.52253521e-01, 3.52253521e-01, 3.52253521e-01,\n",
       "        3.52253521e-01, 3.52253521e-01, 3.52253521e-01, 3.52253521e-01,\n",
       "        3.52253521e-01, 3.52253521e-01, 3.52253521e-01, 3.52253521e-01,\n",
       "        3.52253521e-01, 3.52253521e-01, 3.52253521e-01, 3.52253521e-01,\n",
       "        3.52253521e-01, 3.52253521e-01, 3.52253521e-01, 3.52253521e-01,\n",
       "        3.52253521e-01, 3.52253521e-01, 3.52253521e-01, 3.52253521e-01,\n",
       "        3.52253521e-01, 3.52253521e-01, 3.52253521e-01, 3.52253521e-01,\n",
       "        3.52253521e-01, 3.52253521e-01, 3.52253521e-01, 3.52253521e-01,\n",
       "        3.52253521e-01, 3.52253521e-01, 3.52253521e-01, 3.52253521e-01,\n",
       "        3.52253521e-01, 3.52253521e-01, 3.52253521e-01, 3.52253521e-01,\n",
       "        3.52253521e-01, 3.52253521e-01, 3.52253521e-01, 3.52253521e-01,\n",
       "        3.52253521e-01, 3.52253521e-01, 3.52253521e-01, 3.52253521e-01,\n",
       "        3.52253521e-01, 3.52253521e-01, 3.52253521e-01, 3.52253521e-01,\n",
       "        3.52253521e-01, 3.52253521e-01, 3.52253521e-01, 3.52253521e-01,\n",
       "        3.52253521e-01, 3.52253521e-01, 3.52253521e-01, 3.52253521e-01,\n",
       "        3.52253521e-01, 3.52253521e-01, 3.52253521e-01, 3.52253521e-01,\n",
       "        3.52253521e-01, 3.52253521e-01, 3.52253521e-01, 3.52253521e-01,\n",
       "        3.52253521e-01, 3.52253521e-01, 3.52253521e-01, 3.52253521e-01,\n",
       "        3.52253521e-01, 3.52253521e-01, 3.52253521e-01, 3.52253521e-01,\n",
       "        3.52253521e-01, 3.52253521e-01, 3.52253521e-01, 3.52253521e-01,\n",
       "        3.52253521e-01, 3.52253521e-01, 3.52253521e-01, 3.52253521e-01,\n",
       "        3.52253521e-01, 3.52253521e-01, 3.52253521e-01, 3.52253521e-01,\n",
       "        3.52253521e-01, 3.52253521e-01, 3.52253521e-01, 3.52253521e-01,\n",
       "        3.52253521e-01, 3.52253521e-01, 3.52253521e-01, 3.52253521e-01,\n",
       "        3.52253521e-01, 3.52253521e-01, 3.52253521e-01, 3.52253521e-01,\n",
       "        3.52253521e-01, 3.52253521e-01, 3.52253521e-01, 3.52253521e-01,\n",
       "        3.52253521e-01, 3.52253521e-01, 3.52253521e-01, 3.52253521e-01,\n",
       "        3.52253521e-01, 3.52253521e-01, 3.52253521e-01, 3.52253521e-01,\n",
       "        3.52253521e-01, 3.52253521e-01, 3.52253521e-01, 3.52253521e-01,\n",
       "        3.52253521e-01, 3.52253521e-01, 3.52253521e-01, 3.52253521e-01,\n",
       "        3.52253521e-01, 3.52253521e-01, 3.52253521e-01, 3.52253521e-01,\n",
       "        3.52253521e-01, 3.52253521e-01, 3.52253521e-01, 3.52253521e-01,\n",
       "        3.52253521e-01, 3.52253521e-01, 3.52253521e-01, 3.52253521e-01,\n",
       "        3.52253521e-01, 3.52253521e-01, 3.52253521e-01, 3.52253521e-01,\n",
       "        3.52253521e-01, 3.52253521e-01, 3.52253521e-01, 3.52253521e-01,\n",
       "        3.52253521e-01, 3.52253521e-01, 3.52253521e-01, 3.52253521e-01,\n",
       "        3.52253521e-01, 3.52253521e-01, 3.52253521e-01, 3.52253521e-01,\n",
       "        3.52253521e-01, 3.52253521e-01, 3.52253521e-01, 3.52253521e-01,\n",
       "        3.52253521e-01, 3.52253521e-01, 3.52253521e-01, 3.52253521e-01,\n",
       "        3.52253521e-01, 3.52253521e-01, 3.52253521e-01, 3.52253521e-01,\n",
       "        3.52253521e-01, 3.52253521e-01, 3.52253521e-01, 3.52253521e-01,\n",
       "        3.52253521e-01, 3.52253521e-01, 3.52253521e-01, 3.52253521e-01,\n",
       "        3.52253521e-01, 3.52253521e-01, 3.52253521e-01, 3.52253521e-01,\n",
       "        3.52253521e-01, 3.52253521e-01, 3.52253521e-01, 3.52253521e-01,\n",
       "        3.52253521e-01, 3.52253521e-01, 3.52253521e-01, 3.52253521e-01,\n",
       "        3.52253521e-01, 3.52253521e-01, 3.52253521e-01, 3.52253521e-01,\n",
       "        3.52253521e-01, 3.52253521e-01, 3.52253521e-01, 3.52253521e-01,\n",
       "        3.52253521e-01, 3.52253521e-01, 3.52253521e-01, 3.52253521e-01,\n",
       "        3.52253521e-01, 3.52253521e-01, 3.52253521e-01, 3.52253521e-01,\n",
       "        3.52253521e-01, 3.52253521e-01, 3.52253521e-01, 3.52253521e-01,\n",
       "        3.52253521e-01, 3.52253521e-01, 3.52253521e-01, 3.52253521e-01,\n",
       "        3.52253521e-01, 3.52253521e-01, 3.52253521e-01, 3.52253521e-01,\n",
       "        3.52253521e-01, 3.52253521e-01, 3.52253521e-01, 3.52253521e-01,\n",
       "        3.52253521e-01, 3.52253521e-01, 3.52253521e-01, 3.52253521e-01,\n",
       "        3.52253521e-01, 3.52253521e-01, 3.52253521e-01, 3.52253521e-01,\n",
       "        3.52253521e-01, 3.52253521e-01, 3.52253521e-01, 3.52253521e-01,\n",
       "        3.52253521e-01, 3.52253521e-01, 3.52253521e-01, 3.52253521e-01,\n",
       "        3.52253521e-01, 3.52253521e-01, 3.52253521e-01, 3.52253521e-01,\n",
       "        3.52253521e-01, 3.52253521e-01, 3.52253521e-01, 3.52253521e-01,\n",
       "        3.52253521e-01, 3.52253521e-01, 3.52253521e-01, 3.52253521e-01,\n",
       "        3.52253521e-01, 3.52253521e-01, 3.52253521e-01, 3.52253521e-01,\n",
       "        3.52253521e-01, 3.52253521e-01, 3.52253521e-01, 3.52253521e-01,\n",
       "        3.52253521e-01, 3.52253521e-01, 3.52253521e-01, 3.52253521e-01,\n",
       "        3.52253521e-01, 3.52253521e-01, 3.52253521e-01, 3.52253521e-01,\n",
       "        3.52253521e-01, 3.52253521e-01, 3.52253521e-01, 3.52253521e-01,\n",
       "        3.52253521e-01, 3.52253521e-01, 3.52253521e-01, 3.52253521e-01,\n",
       "        3.52253521e-01, 3.52253521e-01, 3.52253521e-01, 3.52253521e-01,\n",
       "        3.52253521e-01, 3.52253521e-01, 3.52253521e-01, 3.52253521e-01,\n",
       "        3.52253521e-01, 3.52253521e-01, 3.52253521e-01, 3.52253521e-01,\n",
       "        3.52253521e-01, 3.52253521e-01, 3.52253521e-01, 3.52253521e-01,\n",
       "        3.52253521e-01, 3.52253521e-01, 3.52253521e-01, 3.52253521e-01,\n",
       "        3.52253521e-01, 3.52253521e-01, 3.52253521e-01, 3.52253521e-01,\n",
       "        3.52253521e-01, 3.52253521e-01, 3.52253521e-01, 3.52253521e-01],\n",
       "       [4.08080282e+02, 3.92534366e+02, 3.62090282e+02, 3.41362394e+02,\n",
       "        3.03145352e+02, 2.70758028e+02, 2.26711268e+02, 1.91085211e+02,\n",
       "        1.63879859e+02, 1.37970000e+02, 1.20480845e+02, 1.10116901e+02,\n",
       "        9.84574648e+01, 8.87412676e+01, 7.77295775e+01, 6.99566197e+01,\n",
       "        6.47746479e+01, 5.89449296e+01, 5.57061972e+01, 5.24674648e+01,\n",
       "        4.92287324e+01, 4.33990141e+01, 3.95125352e+01, 3.75692958e+01,\n",
       "        3.49783099e+01, 3.36828169e+01, 2.78530986e+01, 2.65576056e+01,\n",
       "        2.46143662e+01, 2.26711268e+01, 2.20233803e+01, 2.07278873e+01,\n",
       "        2.00801408e+01, 1.94323944e+01, 1.74891549e+01, 1.68414085e+01,\n",
       "        1.68414085e+01, 1.68414085e+01, 1.68414085e+01, 1.55459155e+01,\n",
       "        1.48981690e+01, 1.42504225e+01, 1.29549296e+01, 1.29549296e+01,\n",
       "        1.10116901e+01, 9.71619718e+00, 9.06845070e+00, 9.06845070e+00,\n",
       "        7.77295775e+00, 7.12521127e+00, 7.12521127e+00, 7.12521127e+00,\n",
       "        7.12521127e+00, 7.12521127e+00, 7.12521127e+00, 6.47746479e+00,\n",
       "        6.47746479e+00, 5.82971831e+00, 5.18197183e+00, 5.18197183e+00,\n",
       "        5.18197183e+00, 5.18197183e+00, 5.18197183e+00, 5.18197183e+00,\n",
       "        5.18197183e+00, 5.18197183e+00, 3.88647887e+00, 3.88647887e+00,\n",
       "        3.88647887e+00, 3.88647887e+00, 3.88647887e+00, 3.88647887e+00,\n",
       "        3.23873239e+00, 2.59098592e+00, 2.59098592e+00, 2.59098592e+00,\n",
       "        2.59098592e+00, 2.59098592e+00, 2.59098592e+00, 2.59098592e+00,\n",
       "        1.94323944e+00, 1.29549296e+00, 1.29549296e+00, 1.29549296e+00,\n",
       "        1.29549296e+00, 1.29549296e+00, 1.29549296e+00, 1.29549296e+00,\n",
       "        1.29549296e+00, 6.47746479e-01, 6.47746479e-01, 6.47746479e-01,\n",
       "        6.47746479e-01, 6.47746479e-01, 6.47746479e-01, 6.47746479e-01,\n",
       "        6.47746479e-01, 6.47746479e-01, 6.47746479e-01, 6.47746479e-01,\n",
       "        6.47746479e-01, 6.47746479e-01, 6.47746479e-01, 6.47746479e-01,\n",
       "        6.47746479e-01, 6.47746479e-01, 6.47746479e-01, 6.47746479e-01,\n",
       "        6.47746479e-01, 6.47746479e-01, 6.47746479e-01, 6.47746479e-01,\n",
       "        6.47746479e-01, 6.47746479e-01, 6.47746479e-01, 6.47746479e-01,\n",
       "        6.47746479e-01, 6.47746479e-01, 6.47746479e-01, 6.47746479e-01,\n",
       "        6.47746479e-01, 6.47746479e-01, 6.47746479e-01, 6.47746479e-01,\n",
       "        6.47746479e-01, 6.47746479e-01, 6.47746479e-01, 6.47746479e-01,\n",
       "        6.47746479e-01, 6.47746479e-01, 6.47746479e-01, 6.47746479e-01,\n",
       "        6.47746479e-01, 6.47746479e-01, 6.47746479e-01, 6.47746479e-01,\n",
       "        6.47746479e-01, 6.47746479e-01, 6.47746479e-01, 6.47746479e-01,\n",
       "        6.47746479e-01, 6.47746479e-01, 6.47746479e-01, 6.47746479e-01,\n",
       "        6.47746479e-01, 6.47746479e-01, 6.47746479e-01, 6.47746479e-01,\n",
       "        6.47746479e-01, 6.47746479e-01, 6.47746479e-01, 6.47746479e-01,\n",
       "        6.47746479e-01, 6.47746479e-01, 6.47746479e-01, 6.47746479e-01,\n",
       "        6.47746479e-01, 6.47746479e-01, 6.47746479e-01, 6.47746479e-01,\n",
       "        6.47746479e-01, 6.47746479e-01, 6.47746479e-01, 6.47746479e-01,\n",
       "        6.47746479e-01, 6.47746479e-01, 6.47746479e-01, 6.47746479e-01,\n",
       "        6.47746479e-01, 6.47746479e-01, 6.47746479e-01, 6.47746479e-01,\n",
       "        6.47746479e-01, 6.47746479e-01, 6.47746479e-01, 6.47746479e-01,\n",
       "        6.47746479e-01, 6.47746479e-01, 6.47746479e-01, 6.47746479e-01,\n",
       "        6.47746479e-01, 6.47746479e-01, 6.47746479e-01, 6.47746479e-01,\n",
       "        6.47746479e-01, 6.47746479e-01, 6.47746479e-01, 6.47746479e-01,\n",
       "        6.47746479e-01, 6.47746479e-01, 6.47746479e-01, 6.47746479e-01,\n",
       "        6.47746479e-01, 6.47746479e-01, 6.47746479e-01, 6.47746479e-01,\n",
       "        6.47746479e-01, 6.47746479e-01, 6.47746479e-01, 6.47746479e-01,\n",
       "        6.47746479e-01, 6.47746479e-01, 6.47746479e-01, 6.47746479e-01,\n",
       "        6.47746479e-01, 6.47746479e-01, 6.47746479e-01, 6.47746479e-01,\n",
       "        6.47746479e-01, 6.47746479e-01, 6.47746479e-01, 6.47746479e-01,\n",
       "        6.47746479e-01, 6.47746479e-01, 6.47746479e-01, 6.47746479e-01,\n",
       "        6.47746479e-01, 6.47746479e-01, 6.47746479e-01, 6.47746479e-01,\n",
       "        6.47746479e-01, 6.47746479e-01, 6.47746479e-01, 6.47746479e-01,\n",
       "        6.47746479e-01, 6.47746479e-01, 6.47746479e-01, 6.47746479e-01,\n",
       "        6.47746479e-01, 6.47746479e-01, 6.47746479e-01, 6.47746479e-01,\n",
       "        6.47746479e-01, 6.47746479e-01, 6.47746479e-01, 6.47746479e-01,\n",
       "        6.47746479e-01, 6.47746479e-01, 6.47746479e-01, 6.47746479e-01,\n",
       "        6.47746479e-01, 6.47746479e-01, 6.47746479e-01, 6.47746479e-01,\n",
       "        6.47746479e-01, 6.47746479e-01, 6.47746479e-01, 6.47746479e-01,\n",
       "        6.47746479e-01, 6.47746479e-01, 6.47746479e-01, 6.47746479e-01,\n",
       "        6.47746479e-01, 6.47746479e-01, 6.47746479e-01, 6.47746479e-01,\n",
       "        6.47746479e-01, 6.47746479e-01, 6.47746479e-01, 6.47746479e-01,\n",
       "        6.47746479e-01, 6.47746479e-01, 6.47746479e-01, 6.47746479e-01,\n",
       "        6.47746479e-01, 6.47746479e-01, 6.47746479e-01, 6.47746479e-01,\n",
       "        6.47746479e-01, 6.47746479e-01, 6.47746479e-01, 6.47746479e-01,\n",
       "        6.47746479e-01, 6.47746479e-01, 6.47746479e-01, 6.47746479e-01,\n",
       "        6.47746479e-01, 6.47746479e-01, 6.47746479e-01, 6.47746479e-01,\n",
       "        6.47746479e-01, 6.47746479e-01, 6.47746479e-01, 6.47746479e-01,\n",
       "        6.47746479e-01, 6.47746479e-01, 6.47746479e-01, 6.47746479e-01,\n",
       "        6.47746479e-01, 6.47746479e-01, 6.47746479e-01, 6.47746479e-01,\n",
       "        6.47746479e-01, 6.47746479e-01, 6.47746479e-01, 6.47746479e-01,\n",
       "        6.47746479e-01, 6.47746479e-01, 6.47746479e-01, 6.47746479e-01,\n",
       "        6.47746479e-01, 6.47746479e-01, 6.47746479e-01, 6.47746479e-01,\n",
       "        6.47746479e-01, 6.47746479e-01, 6.47746479e-01, 6.47746479e-01,\n",
       "        6.47746479e-01, 6.47746479e-01, 6.47746479e-01, 6.47746479e-01,\n",
       "        6.47746479e-01, 6.47746479e-01, 6.47746479e-01, 6.47746479e-01,\n",
       "        6.47746479e-01, 6.47746479e-01, 6.47746479e-01, 6.47746479e-01,\n",
       "        6.47746479e-01, 6.47746479e-01, 6.47746479e-01, 6.47746479e-01,\n",
       "        6.47746479e-01, 6.47746479e-01, 6.47746479e-01, 6.47746479e-01,\n",
       "        6.47746479e-01, 6.47746479e-01, 6.47746479e-01, 6.47746479e-01,\n",
       "        6.47746479e-01, 6.47746479e-01, 6.47746479e-01, 6.47746479e-01,\n",
       "        6.47746479e-01, 6.47746479e-01, 6.47746479e-01, 6.47746479e-01,\n",
       "        6.47746479e-01, 6.47746479e-01, 6.47746479e-01, 6.47746479e-01,\n",
       "        6.47746479e-01, 6.47746479e-01, 6.47746479e-01, 6.47746479e-01,\n",
       "        6.47746479e-01, 6.47746479e-01, 6.47746479e-01, 6.47746479e-01,\n",
       "        6.47746479e-01, 6.47746479e-01, 6.47746479e-01, 6.47746479e-01,\n",
       "        6.47746479e-01, 6.47746479e-01, 6.47746479e-01, 6.47746479e-01,\n",
       "        6.47746479e-01, 6.47746479e-01, 6.47746479e-01, 6.47746479e-01,\n",
       "        6.47746479e-01, 6.47746479e-01, 6.47746479e-01, 6.47746479e-01,\n",
       "        6.47746479e-01, 6.47746479e-01, 6.47746479e-01, 6.47746479e-01,\n",
       "        6.47746479e-01, 6.47746479e-01, 6.47746479e-01, 6.47746479e-01,\n",
       "        6.47746479e-01, 6.47746479e-01, 6.47746479e-01, 6.47746479e-01,\n",
       "        6.47746479e-01, 6.47746479e-01, 6.47746479e-01, 6.47746479e-01,\n",
       "        6.47746479e-01, 6.47746479e-01, 6.47746479e-01, 6.47746479e-01,\n",
       "        6.47746479e-01, 6.47746479e-01, 6.47746479e-01, 6.47746479e-01,\n",
       "        6.47746479e-01, 6.47746479e-01, 6.47746479e-01, 6.47746479e-01,\n",
       "        6.47746479e-01, 6.47746479e-01, 6.47746479e-01, 6.47746479e-01,\n",
       "        6.47746479e-01, 6.47746479e-01, 6.47746479e-01, 6.47746479e-01,\n",
       "        6.47746479e-01, 6.47746479e-01, 6.47746479e-01, 6.47746479e-01,\n",
       "        6.47746479e-01, 6.47746479e-01, 6.47746479e-01, 6.47746479e-01,\n",
       "        6.47746479e-01, 6.47746479e-01, 6.47746479e-01, 6.47746479e-01,\n",
       "        6.47746479e-01, 6.47746479e-01, 6.47746479e-01, 6.47746479e-01,\n",
       "        6.47746479e-01, 6.47746479e-01, 6.47746479e-01, 6.47746479e-01,\n",
       "        6.47746479e-01, 6.47746479e-01, 6.47746479e-01, 6.47746479e-01]]))"
      ]
     },
     "execution_count": 79,
     "metadata": {},
     "output_type": "execute_result"
    }
   ],
   "source": [
    "chi_scores_netflix_exclusive = chi2_contingency(df_crosstab_netflix_exclusive)\n",
    "chi_scores_netflix_exclusive"
   ]
  },
  {
   "cell_type": "code",
   "execution_count": 80,
   "metadata": {},
   "outputs": [],
   "source": [
    "score_netflix_exclusive = pd.Series(chi_scores_netflix_exclusive[0])\n",
    "pv_netflix_exclusive = pd.Series(chi_scores_netflix_exclusive[1])"
   ]
  },
  {
   "cell_type": "code",
   "execution_count": 81,
   "metadata": {},
   "outputs": [],
   "source": [
    "pd.set_option('display.float_format', lambda x: '%.15f' % x)"
   ]
  },
  {
   "cell_type": "code",
   "execution_count": 82,
   "metadata": {},
   "outputs": [
    {
     "data": {
      "text/html": [
       "<div>\n",
       "<style scoped>\n",
       "    .dataframe tbody tr th:only-of-type {\n",
       "        vertical-align: middle;\n",
       "    }\n",
       "\n",
       "    .dataframe tbody tr th {\n",
       "        vertical-align: top;\n",
       "    }\n",
       "\n",
       "    .dataframe thead th {\n",
       "        text-align: right;\n",
       "    }\n",
       "</style>\n",
       "<table border=\"1\" class=\"dataframe\">\n",
       "  <thead>\n",
       "    <tr style=\"text-align: right;\">\n",
       "      <th></th>\n",
       "      <th>Qui2</th>\n",
       "      <th>p-value</th>\n",
       "    </tr>\n",
       "  </thead>\n",
       "  <tbody>\n",
       "    <tr>\n",
       "      <th>0</th>\n",
       "      <td>759.436056249154490</td>\n",
       "      <td>0.000000000000000</td>\n",
       "    </tr>\n",
       "  </tbody>\n",
       "</table>\n",
       "</div>"
      ],
      "text/plain": [
       "                 Qui2           p-value\n",
       "0 759.436056249154490 0.000000000000000"
      ]
     },
     "execution_count": 82,
     "metadata": {},
     "output_type": "execute_result"
    }
   ],
   "source": [
    "df_chi_scores_netflix_esclusive = pd.DataFrame({'Qui2': score_netflix_exclusive, 'p-value': pv_netflix_exclusive})\n",
    "df_chi_scores_netflix_esclusive"
   ]
  },
  {
   "cell_type": "markdown",
   "metadata": {},
   "source": [
    "Com base no teste estatístico (Qui-Quadrado), onde o valor-p é menor ou igual a 0.05, rejeitamos a hipótese nula, indicando que as variáveis não são independentes. "
   ]
  },
  {
   "cell_type": "markdown",
   "metadata": {},
   "source": [
    "### Segunda Hipótese"
   ]
  },
  {
   "cell_type": "code",
   "execution_count": 96,
   "metadata": {},
   "outputs": [
    {
     "data": {
      "image/png": "[encoded data removed]",
      "text/plain": [
       "<Figure size 640x480 with 1 Axes>"
      ]
     },
     "metadata": {},
     "output_type": "display_data"
    }
   ],
   "source": [
    "plt.scatter(df_netflix['Release Year'], df_netflix['Viewership Score'], color='#996dff')\n",
    "plt.xlabel(\"Ano de Lançamento\")\n",
    "plt.ylabel(\"Viewership Score\")\n",
    "plt.title(\"Relação entre Ano de Lançamento e Viewership Score\")\n",
    "plt.show()"
   ]
  },
  {
   "cell_type": "code",
   "execution_count": 97,
   "metadata": {},
   "outputs": [
    {
     "data": {
      "text/plain": [
       "np.float64(-0.03128620515241988)"
      ]
     },
     "execution_count": 97,
     "metadata": {},
     "output_type": "execute_result"
    }
   ],
   "source": [
    "df_netflix['Viewership Score'].corr(df_netflix['Release Year'])"
   ]
  },
  {
   "cell_type": "code",
   "execution_count": 99,
   "metadata": {},
   "outputs": [
    {
     "data": {
      "text/plain": [
       "np.float64(-0.024408241883419158)"
      ]
     },
     "execution_count": 99,
     "metadata": {},
     "output_type": "execute_result"
    }
   ],
   "source": [
    "df_netflix['Days In Top 10'].corr(df_netflix['Release Year'])"
   ]
  },
  {
   "cell_type": "code",
   "execution_count": 101,
   "metadata": {},
   "outputs": [
    {
     "data": {
      "text/plain": [
       "np.float64(-0.15607088567531593)"
      ]
     },
     "execution_count": 101,
     "metadata": {},
     "output_type": "execute_result"
    }
   ],
   "source": [
    "df_netflix['Viewership Score'].corr(df_netflix['Release Year'], method='spearman')"
   ]
  },
  {
   "cell_type": "code",
   "execution_count": 102,
   "metadata": {},
   "outputs": [
    {
     "data": {
      "text/plain": [
       "np.float64(-0.18297949302494168)"
      ]
     },
     "execution_count": 102,
     "metadata": {},
     "output_type": "execute_result"
    }
   ],
   "source": [
    "df_netflix['Days In Top 10'].corr(df_netflix['Release Year'], method='spearman')"
   ]
  },
  {
   "cell_type": "markdown",
   "metadata": {},
   "source": [
    "Não há uma relação forte entre o ano de lançamento e o viewership score: Ou seja, o viewership score de um título não parece ser significativamente afetado pelo seu ano de lançamento, ao menos em termos de uma relação linear ou monotônica simples.\n",
    "\n",
    "A relação entre o ano de lançamento e os dias no Top 10 é muito fraca: O ano em que o título foi lançado também não parece influenciar diretamente a quantidade de dias que ele passa no Top 10."
   ]
  },
  {
   "cell_type": "markdown",
   "metadata": {},
   "source": [
    "### Outliers"
   ]
  },
  {
   "cell_type": "code",
   "execution_count": 104,
   "metadata": {},
   "outputs": [
    {
     "data": {
      "text/plain": [
       "<Axes: >"
      ]
     },
     "execution_count": 104,
     "metadata": {},
     "output_type": "execute_result"
    },
    {
     "data": {
      "image/png": "[encoded data removed]",
      "text/plain": [
       "<Figure size 1500x300 with 1 Axes>"
      ]
     },
     "metadata": {},
     "output_type": "display_data"
    }
   ],
   "source": [
    "# Identificar Outlier\n",
    "df_netflix.plot(kind='box', vert=False, figsize=(15, 3), color='#996dff')"
   ]
  },
  {
   "cell_type": "code",
   "execution_count": 109,
   "metadata": {},
   "outputs": [
    {
     "data": {
      "text/html": [
       "<div>\n",
       "<style scoped>\n",
       "    .dataframe tbody tr th:only-of-type {\n",
       "        vertical-align: middle;\n",
       "    }\n",
       "\n",
       "    .dataframe tbody tr th {\n",
       "        vertical-align: top;\n",
       "    }\n",
       "\n",
       "    .dataframe thead th {\n",
       "        text-align: right;\n",
       "    }\n",
       "</style>\n",
       "<table border=\"1\" class=\"dataframe\">\n",
       "  <thead>\n",
       "    <tr style=\"text-align: right;\">\n",
       "      <th></th>\n",
       "      <th>As of</th>\n",
       "      <th>Rank</th>\n",
       "      <th>Year to Date Rank</th>\n",
       "      <th>Last Week Rank</th>\n",
       "      <th>Title</th>\n",
       "      <th>Type</th>\n",
       "      <th>Netflix Exclusive</th>\n",
       "      <th>Netflix Release Date</th>\n",
       "      <th>Days In Top 10</th>\n",
       "      <th>Viewership Score</th>\n",
       "      <th>Release Year</th>\n",
       "    </tr>\n",
       "  </thead>\n",
       "  <tbody>\n",
       "    <tr>\n",
       "      <th>236</th>\n",
       "      <td>2020-04-24</td>\n",
       "      <td>7</td>\n",
       "      <td>7</td>\n",
       "      <td>2</td>\n",
       "      <td>Tiger King: Murder, Mayhem …</td>\n",
       "      <td>TV Show</td>\n",
       "      <td>1</td>\n",
       "      <td>2020-03-20</td>\n",
       "      <td>32</td>\n",
       "      <td>292</td>\n",
       "      <td>2020</td>\n",
       "    </tr>\n",
       "    <tr>\n",
       "      <th>247</th>\n",
       "      <td>2020-04-25</td>\n",
       "      <td>8</td>\n",
       "      <td>7</td>\n",
       "      <td>2</td>\n",
       "      <td>Tiger King: Murder, Mayhem …</td>\n",
       "      <td>TV Show</td>\n",
       "      <td>1</td>\n",
       "      <td>2020-03-20</td>\n",
       "      <td>33</td>\n",
       "      <td>295</td>\n",
       "      <td>2020</td>\n",
       "    </tr>\n",
       "    <tr>\n",
       "      <th>255</th>\n",
       "      <td>2020-04-26</td>\n",
       "      <td>6</td>\n",
       "      <td>8</td>\n",
       "      <td>3</td>\n",
       "      <td>Tiger King: Murder, Mayhem …</td>\n",
       "      <td>TV Show</td>\n",
       "      <td>1</td>\n",
       "      <td>2020-03-20</td>\n",
       "      <td>34</td>\n",
       "      <td>300</td>\n",
       "      <td>2020</td>\n",
       "    </tr>\n",
       "    <tr>\n",
       "      <th>269</th>\n",
       "      <td>2020-04-27</td>\n",
       "      <td>10</td>\n",
       "      <td>6</td>\n",
       "      <td>4</td>\n",
       "      <td>Tiger King: Murder, Mayhem …</td>\n",
       "      <td>TV Show</td>\n",
       "      <td>1</td>\n",
       "      <td>2020-03-20</td>\n",
       "      <td>35</td>\n",
       "      <td>301</td>\n",
       "      <td>2020</td>\n",
       "    </tr>\n",
       "    <tr>\n",
       "      <th>2382</th>\n",
       "      <td>2020-11-25</td>\n",
       "      <td>3</td>\n",
       "      <td>2</td>\n",
       "      <td>3</td>\n",
       "      <td>The Queenâs Gambit</td>\n",
       "      <td>TV Show</td>\n",
       "      <td>1</td>\n",
       "      <td>2020-10-23</td>\n",
       "      <td>33</td>\n",
       "      <td>296</td>\n",
       "      <td>2020</td>\n",
       "    </tr>\n",
       "    <tr>\n",
       "      <th>...</th>\n",
       "      <td>...</td>\n",
       "      <td>...</td>\n",
       "      <td>...</td>\n",
       "      <td>...</td>\n",
       "      <td>...</td>\n",
       "      <td>...</td>\n",
       "      <td>...</td>\n",
       "      <td>...</td>\n",
       "      <td>...</td>\n",
       "      <td>...</td>\n",
       "      <td>...</td>\n",
       "    </tr>\n",
       "    <tr>\n",
       "      <th>7008</th>\n",
       "      <td>2022-03-02</td>\n",
       "      <td>9</td>\n",
       "      <td>6</td>\n",
       "      <td>3</td>\n",
       "      <td>Sweet Magnolias</td>\n",
       "      <td>TV Show</td>\n",
       "      <td>1</td>\n",
       "      <td>2020-05-19</td>\n",
       "      <td>45</td>\n",
       "      <td>344</td>\n",
       "      <td>2020</td>\n",
       "    </tr>\n",
       "    <tr>\n",
       "      <th>7063</th>\n",
       "      <td>2022-03-08</td>\n",
       "      <td>4</td>\n",
       "      <td>4</td>\n",
       "      <td>4</td>\n",
       "      <td>Love is Blind</td>\n",
       "      <td>TV Show</td>\n",
       "      <td>1</td>\n",
       "      <td>2020-02-13</td>\n",
       "      <td>43</td>\n",
       "      <td>295</td>\n",
       "      <td>2020</td>\n",
       "    </tr>\n",
       "    <tr>\n",
       "      <th>7074</th>\n",
       "      <td>2022-03-09</td>\n",
       "      <td>5</td>\n",
       "      <td>4</td>\n",
       "      <td>5</td>\n",
       "      <td>Love is Blind</td>\n",
       "      <td>TV Show</td>\n",
       "      <td>1</td>\n",
       "      <td>2020-02-13</td>\n",
       "      <td>44</td>\n",
       "      <td>301</td>\n",
       "      <td>2020</td>\n",
       "    </tr>\n",
       "    <tr>\n",
       "      <th>7085</th>\n",
       "      <td>2022-03-10</td>\n",
       "      <td>6</td>\n",
       "      <td>5</td>\n",
       "      <td>5</td>\n",
       "      <td>Love is Blind</td>\n",
       "      <td>TV Show</td>\n",
       "      <td>1</td>\n",
       "      <td>2020-02-13</td>\n",
       "      <td>45</td>\n",
       "      <td>306</td>\n",
       "      <td>2020</td>\n",
       "    </tr>\n",
       "    <tr>\n",
       "      <th>7094</th>\n",
       "      <td>2022-03-11</td>\n",
       "      <td>5</td>\n",
       "      <td>6</td>\n",
       "      <td>6</td>\n",
       "      <td>Love is Blind</td>\n",
       "      <td>TV Show</td>\n",
       "      <td>1</td>\n",
       "      <td>2020-02-13</td>\n",
       "      <td>46</td>\n",
       "      <td>312</td>\n",
       "      <td>2020</td>\n",
       "    </tr>\n",
       "  </tbody>\n",
       "</table>\n",
       "<p>698 rows × 11 columns</p>\n",
       "</div>"
      ],
      "text/plain": [
       "           As of  Rank Year to Date Rank Last Week Rank  \\\n",
       "236   2020-04-24     7                 7              2   \n",
       "247   2020-04-25     8                 7              2   \n",
       "255   2020-04-26     6                 8              3   \n",
       "269   2020-04-27    10                 6              4   \n",
       "2382  2020-11-25     3                 2              3   \n",
       "...          ...   ...               ...            ...   \n",
       "7008  2022-03-02     9                 6              3   \n",
       "7063  2022-03-08     4                 4              4   \n",
       "7074  2022-03-09     5                 4              5   \n",
       "7085  2022-03-10     6                 5              5   \n",
       "7094  2022-03-11     5                 6              6   \n",
       "\n",
       "                             Title     Type  Netflix Exclusive  \\\n",
       "236   Tiger King: Murder, Mayhem …  TV Show                  1   \n",
       "247   Tiger King: Murder, Mayhem …  TV Show                  1   \n",
       "255   Tiger King: Murder, Mayhem …  TV Show                  1   \n",
       "269   Tiger King: Murder, Mayhem …  TV Show                  1   \n",
       "2382          The Queenâs Gambit  TV Show                  1   \n",
       "...                            ...      ...                ...   \n",
       "7008               Sweet Magnolias  TV Show                  1   \n",
       "7063                 Love is Blind  TV Show                  1   \n",
       "7074                 Love is Blind  TV Show                  1   \n",
       "7085                 Love is Blind  TV Show                  1   \n",
       "7094                 Love is Blind  TV Show                  1   \n",
       "\n",
       "     Netflix Release Date  Days In Top 10  Viewership Score  Release Year  \n",
       "236            2020-03-20              32               292          2020  \n",
       "247            2020-03-20              33               295          2020  \n",
       "255            2020-03-20              34               300          2020  \n",
       "269            2020-03-20              35               301          2020  \n",
       "2382           2020-10-23              33               296          2020  \n",
       "...                   ...             ...               ...           ...  \n",
       "7008           2020-05-19              45               344          2020  \n",
       "7063           2020-02-13              43               295          2020  \n",
       "7074           2020-02-13              44               301          2020  \n",
       "7085           2020-02-13              45               306          2020  \n",
       "7094           2020-02-13              46               312          2020  \n",
       "\n",
       "[698 rows x 11 columns]"
      ]
     },
     "execution_count": 109,
     "metadata": {},
     "output_type": "execute_result"
    }
   ],
   "source": [
    "q1 = df_netflix['Viewership Score'].quantile(0.25)\n",
    "q3 = df_netflix['Viewership Score'].quantile(0.75)\n",
    "iqr = q3 - q1\n",
    "lower_bound = q1 - 1.5*iqr\n",
    "upper_bound = q3 + 1.5*iqr\n",
    "\n",
    "df_netflix[(df_netflix['Viewership Score'] < lower_bound) | (df_netflix['Viewership Score'] > upper_bound)]\n"
   ]
  },
  {
   "cell_type": "code",
   "execution_count": 110,
   "metadata": {},
   "outputs": [
    {
     "data": {
      "text/html": [
       "<div>\n",
       "<style scoped>\n",
       "    .dataframe tbody tr th:only-of-type {\n",
       "        vertical-align: middle;\n",
       "    }\n",
       "\n",
       "    .dataframe tbody tr th {\n",
       "        vertical-align: top;\n",
       "    }\n",
       "\n",
       "    .dataframe thead th {\n",
       "        text-align: right;\n",
       "    }\n",
       "</style>\n",
       "<table border=\"1\" class=\"dataframe\">\n",
       "  <thead>\n",
       "    <tr style=\"text-align: right;\">\n",
       "      <th></th>\n",
       "      <th>As of</th>\n",
       "      <th>Rank</th>\n",
       "      <th>Year to Date Rank</th>\n",
       "      <th>Last Week Rank</th>\n",
       "      <th>Title</th>\n",
       "      <th>Type</th>\n",
       "      <th>Netflix Exclusive</th>\n",
       "      <th>Netflix Release Date</th>\n",
       "      <th>Days In Top 10</th>\n",
       "      <th>Viewership Score</th>\n",
       "      <th>Release Year</th>\n",
       "    </tr>\n",
       "  </thead>\n",
       "  <tbody>\n",
       "    <tr>\n",
       "      <th>438</th>\n",
       "      <td>2020-05-14</td>\n",
       "      <td>9</td>\n",
       "      <td>9</td>\n",
       "      <td>-</td>\n",
       "      <td>Ozark</td>\n",
       "      <td>TV Show</td>\n",
       "      <td>1</td>\n",
       "      <td>2017-07-21</td>\n",
       "      <td>41</td>\n",
       "      <td>256</td>\n",
       "      <td>2017</td>\n",
       "    </tr>\n",
       "    <tr>\n",
       "      <th>447</th>\n",
       "      <td>2020-05-15</td>\n",
       "      <td>8</td>\n",
       "      <td>9</td>\n",
       "      <td>10</td>\n",
       "      <td>Ozark</td>\n",
       "      <td>TV Show</td>\n",
       "      <td>1</td>\n",
       "      <td>2017-07-21</td>\n",
       "      <td>42</td>\n",
       "      <td>259</td>\n",
       "      <td>2017</td>\n",
       "    </tr>\n",
       "    <tr>\n",
       "      <th>458</th>\n",
       "      <td>2020-05-16</td>\n",
       "      <td>9</td>\n",
       "      <td>8</td>\n",
       "      <td>-</td>\n",
       "      <td>Ozark</td>\n",
       "      <td>TV Show</td>\n",
       "      <td>1</td>\n",
       "      <td>2017-07-21</td>\n",
       "      <td>43</td>\n",
       "      <td>261</td>\n",
       "      <td>2017</td>\n",
       "    </tr>\n",
       "    <tr>\n",
       "      <th>489</th>\n",
       "      <td>2020-05-19</td>\n",
       "      <td>10</td>\n",
       "      <td>-</td>\n",
       "      <td>7</td>\n",
       "      <td>Ozark</td>\n",
       "      <td>TV Show</td>\n",
       "      <td>1</td>\n",
       "      <td>2017-07-21</td>\n",
       "      <td>44</td>\n",
       "      <td>262</td>\n",
       "      <td>2017</td>\n",
       "    </tr>\n",
       "    <tr>\n",
       "      <th>629</th>\n",
       "      <td>2020-06-02</td>\n",
       "      <td>10</td>\n",
       "      <td>-</td>\n",
       "      <td>-</td>\n",
       "      <td>Outer Banks</td>\n",
       "      <td>TV Show</td>\n",
       "      <td>1</td>\n",
       "      <td>2020-04-15</td>\n",
       "      <td>41</td>\n",
       "      <td>291</td>\n",
       "      <td>2020</td>\n",
       "    </tr>\n",
       "    <tr>\n",
       "      <th>...</th>\n",
       "      <td>...</td>\n",
       "      <td>...</td>\n",
       "      <td>...</td>\n",
       "      <td>...</td>\n",
       "      <td>...</td>\n",
       "      <td>...</td>\n",
       "      <td>...</td>\n",
       "      <td>...</td>\n",
       "      <td>...</td>\n",
       "      <td>...</td>\n",
       "      <td>...</td>\n",
       "    </tr>\n",
       "    <tr>\n",
       "      <th>7053</th>\n",
       "      <td>2022-03-07</td>\n",
       "      <td>4</td>\n",
       "      <td>3</td>\n",
       "      <td>4</td>\n",
       "      <td>Love is Blind</td>\n",
       "      <td>TV Show</td>\n",
       "      <td>1</td>\n",
       "      <td>2020-02-13</td>\n",
       "      <td>42</td>\n",
       "      <td>288</td>\n",
       "      <td>2020</td>\n",
       "    </tr>\n",
       "    <tr>\n",
       "      <th>7063</th>\n",
       "      <td>2022-03-08</td>\n",
       "      <td>4</td>\n",
       "      <td>4</td>\n",
       "      <td>4</td>\n",
       "      <td>Love is Blind</td>\n",
       "      <td>TV Show</td>\n",
       "      <td>1</td>\n",
       "      <td>2020-02-13</td>\n",
       "      <td>43</td>\n",
       "      <td>295</td>\n",
       "      <td>2020</td>\n",
       "    </tr>\n",
       "    <tr>\n",
       "      <th>7074</th>\n",
       "      <td>2022-03-09</td>\n",
       "      <td>5</td>\n",
       "      <td>4</td>\n",
       "      <td>5</td>\n",
       "      <td>Love is Blind</td>\n",
       "      <td>TV Show</td>\n",
       "      <td>1</td>\n",
       "      <td>2020-02-13</td>\n",
       "      <td>44</td>\n",
       "      <td>301</td>\n",
       "      <td>2020</td>\n",
       "    </tr>\n",
       "    <tr>\n",
       "      <th>7085</th>\n",
       "      <td>2022-03-10</td>\n",
       "      <td>6</td>\n",
       "      <td>5</td>\n",
       "      <td>5</td>\n",
       "      <td>Love is Blind</td>\n",
       "      <td>TV Show</td>\n",
       "      <td>1</td>\n",
       "      <td>2020-02-13</td>\n",
       "      <td>45</td>\n",
       "      <td>306</td>\n",
       "      <td>2020</td>\n",
       "    </tr>\n",
       "    <tr>\n",
       "      <th>7094</th>\n",
       "      <td>2022-03-11</td>\n",
       "      <td>5</td>\n",
       "      <td>6</td>\n",
       "      <td>6</td>\n",
       "      <td>Love is Blind</td>\n",
       "      <td>TV Show</td>\n",
       "      <td>1</td>\n",
       "      <td>2020-02-13</td>\n",
       "      <td>46</td>\n",
       "      <td>312</td>\n",
       "      <td>2020</td>\n",
       "    </tr>\n",
       "  </tbody>\n",
       "</table>\n",
       "<p>743 rows × 11 columns</p>\n",
       "</div>"
      ],
      "text/plain": [
       "           As of  Rank Year to Date Rank Last Week Rank          Title  \\\n",
       "438   2020-05-14     9                 9              -          Ozark   \n",
       "447   2020-05-15     8                 9             10          Ozark   \n",
       "458   2020-05-16     9                 8              -          Ozark   \n",
       "489   2020-05-19    10                 -              7          Ozark   \n",
       "629   2020-06-02    10                 -              -    Outer Banks   \n",
       "...          ...   ...               ...            ...            ...   \n",
       "7053  2022-03-07     4                 3              4  Love is Blind   \n",
       "7063  2022-03-08     4                 4              4  Love is Blind   \n",
       "7074  2022-03-09     5                 4              5  Love is Blind   \n",
       "7085  2022-03-10     6                 5              5  Love is Blind   \n",
       "7094  2022-03-11     5                 6              6  Love is Blind   \n",
       "\n",
       "         Type  Netflix Exclusive Netflix Release Date  Days In Top 10  \\\n",
       "438   TV Show                  1           2017-07-21              41   \n",
       "447   TV Show                  1           2017-07-21              42   \n",
       "458   TV Show                  1           2017-07-21              43   \n",
       "489   TV Show                  1           2017-07-21              44   \n",
       "629   TV Show                  1           2020-04-15              41   \n",
       "...       ...                ...                  ...             ...   \n",
       "7053  TV Show                  1           2020-02-13              42   \n",
       "7063  TV Show                  1           2020-02-13              43   \n",
       "7074  TV Show                  1           2020-02-13              44   \n",
       "7085  TV Show                  1           2020-02-13              45   \n",
       "7094  TV Show                  1           2020-02-13              46   \n",
       "\n",
       "      Viewership Score  Release Year  \n",
       "438                256          2017  \n",
       "447                259          2017  \n",
       "458                261          2017  \n",
       "489                262          2017  \n",
       "629                291          2020  \n",
       "...                ...           ...  \n",
       "7053               288          2020  \n",
       "7063               295          2020  \n",
       "7074               301          2020  \n",
       "7085               306          2020  \n",
       "7094               312          2020  \n",
       "\n",
       "[743 rows x 11 columns]"
      ]
     },
     "execution_count": 110,
     "metadata": {},
     "output_type": "execute_result"
    }
   ],
   "source": [
    "q1 = df_netflix['Days In Top 10'].quantile(0.25)\n",
    "q3 = df_netflix['Days In Top 10'].quantile(0.75)\n",
    "iqr = q3 - q1\n",
    "lower_bound = q1 - 1.5*iqr\n",
    "upper_bound = q3 + 1.5*iqr\n",
    "\n",
    "df_netflix[(df_netflix['Days In Top 10'] < lower_bound) | (df_netflix['Days In Top 10'] > upper_bound)]"
   ]
  },
  {
   "cell_type": "code",
   "execution_count": 111,
   "metadata": {},
   "outputs": [
    {
     "data": {
      "text/plain": [
       "Type\n",
       "TV Show            4446\n",
       "Movie              2611\n",
       "Stand-Up Comedy      41\n",
       "Concert/Perf…         2\n",
       "Name: count, dtype: int64"
      ]
     },
     "execution_count": 111,
     "metadata": {},
     "output_type": "execute_result"
    }
   ],
   "source": [
    "df_netflix.Type.value_counts()"
   ]
  },
  {
   "cell_type": "markdown",
   "metadata": {},
   "source": [
    "Há uma concentração significativa de outliers tanto no Viewership Score quanto nos Dias no Top 10, e esses valores discrepantes estão predominantemente associados a séries de TV. Esse padrão sugere que, em comparação com filmes, as séries tendem a ter um desempenho substancialmente mais elevado em métricas de engajamento e retenção.\n",
    "\n",
    "Essa diferença pode estar ligada à própria natureza das séries: com episódios lançados periodicamente, elas incentivam os espectadores a retornar regularmente à plataforma, o que aumenta a exposição e o tempo de exibição. Além disso, muitas séries de TV possuem temporadas múltiplas, o que prolonga o engajamento ao longo do tempo, especialmente para produções populares ou com uma base de fãs fiel."
   ]
  }
 ],
 "metadata": {
  "kernelspec": {
   "display_name": "ia-challenge-rocketseat-v7kUXAQa",
   "language": "python",
   "name": "python3"
  },
  "language_info": {
   "codemirror_mode": {
    "name": "ipython",
    "version": 3
   },
   "file_extension": ".py",
   "mimetype": "text/x-python",
   "name": "python",
   "nbconvert_exporter": "python",
   "pygments_lexer": "ipython3",
   "version": "3.11.9"
  }
 },
 "nbformat": 4,
 "nbformat_minor": 2
}
